{
  "nbformat": 4,
  "nbformat_minor": 0,
  "metadata": {
    "colab": {
      "name": "ThaiNumber.ipynb",
      "provenance": [],
      "include_colab_link": true
    },
    "kernelspec": {
      "name": "python3",
      "display_name": "Python 3"
    }
  },
  "cells": [
    {
      "cell_type": "markdown",
      "metadata": {
        "id": "view-in-github",
        "colab_type": "text"
      },
      "source": [
        "<a href=\"https://colab.research.google.com/github/tanupat085/SuperAi/blob/main/ThaiNumber.ipynb\" target=\"_parent\"><img src=\"https://colab.research.google.com/assets/colab-badge.svg\" alt=\"Open In Colab\"/></a>"
      ]
    },
    {
      "cell_type": "code",
      "metadata": {
        "id": "DHI_lpydSP1B"
      },
      "source": [
        "def getBase(i):\n",
        "\tlans = i // 6\n",
        "\tdg = i % 6\n",
        "\treturn {\"lans\" : lans, \"dg\" : dg}\n",
        "\n",
        "def toThaiNumber(i):\n",
        "\ti = str(int(i))\n",
        "\tbase = [\"\",\"สิบ\",\"ร้อย\",\"พัน\",\"หมื่น\",\"แสน\"]\n",
        "\tnum = [\"\", \"หนึ่ง\", \"สอง\", \"สาม\",\"สี่\",\"ห้า\",\"หก\",\"เจ็ด\",\"แปด\",\"เก้า\"]\n",
        "\tli = list(i)\n",
        "\tresult = \"\"\n",
        "\tfor o in range(len(li)):\n",
        "\t\tdigit=li[-(o+1)]\n",
        "\t\tif (o + 1) % 6 == 2 and digit == \"2\":\n",
        "\t\t\tresult = \"ยี่สิบ\" + result\n",
        "\t\telif (o + 1) % 6 == 2 and digit == \"1\":\n",
        "\t\t\tresult = \"สิบ\" + result\n",
        "\t\telif (o + 1) % 6 == 1:\n",
        "\t\t\tif digit == \"1\" and len(li) > 1:\n",
        "\t\t\t\tresult = \"เอ็ด\" + (\"ล้าน\" * getBase(o+1)[\"lans\"]) + result\n",
        "\t\t\telif digit == \"1\" and len(li) == 1:\n",
        "\t\t\t\tresult = \"หนึ่ง\"\n",
        "\t\t\telse:\n",
        "\t\t\t\tresult = num[int(digit)] + (\"ล้าน\" * getBase(o+1)[\"lans\"]) + result\n",
        "\t\telif digit == \"0\":\n",
        "\t\t\tcontinue\n",
        "\t\telse:\n",
        "\t\t\tresult = num[int(digit)] + base[getBase(o)[\"dg\"]] + result\n",
        "\n",
        "\n",
        "\treturn result\n",
        "\n",
        "if __name__ == '__main__':\n",
        "\twhile True:\n",
        "\t\tx = input(\"> \")\n",
        "\t\tprint(toThaiNumber(x))\n",
        "\n"
      ],
      "execution_count": null,
      "outputs": []
    }
  ]
}