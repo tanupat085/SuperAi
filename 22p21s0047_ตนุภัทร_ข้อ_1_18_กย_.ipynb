{
  "nbformat": 4,
  "nbformat_minor": 0,
  "metadata": {
    "colab": {
      "name": "22p21s0047 ตนุภัทร ข้อ 1 18 กย .ipynb",
      "provenance": [],
      "collapsed_sections": [],
      "include_colab_link": true
    },
    "kernelspec": {
      "name": "python3",
      "display_name": "Python 3"
    }
  },
  "cells": [
    {
      "cell_type": "markdown",
      "metadata": {
        "id": "view-in-github",
        "colab_type": "text"
      },
      "source": [
        "<a href=\"https://colab.research.google.com/github/tanupat085/SuperAi/blob/main/22p21s0047_%E0%B8%95%E0%B8%99%E0%B8%B8%E0%B8%A0%E0%B8%B1%E0%B8%97%E0%B8%A3_%E0%B8%82%E0%B9%89%E0%B8%AD_1_18_%E0%B8%81%E0%B8%A2_.ipynb\" target=\"_parent\"><img src=\"https://colab.research.google.com/assets/colab-badge.svg\" alt=\"Open In Colab\"/></a>"
      ]
    },
    {
      "cell_type": "code",
      "metadata": {
        "id": "xist4UjyKvpe"
      },
      "source": [
        "#  from https://medium.com/@natchapolpatamawisut/%E0%B9%81%E0%B8%81%E0%B9%89%E0%B8%9B%E0%B8%B1%E0%B8%8D%E0%B8%AB%E0%B8%B2-8-puzzle-%E0%B8%94%E0%B9%89%E0%B8%A7%E0%B8%A2-a-algorithm-python-80860ab0741b\n",
        "\n",
        "import random\n",
        "import copy\n",
        "\n",
        "def win(puzzle, goal):\n",
        "  return goal == puzzle\n",
        "\n",
        "def find(puzzle,t):\n",
        "    for i in range(len(puzzle)):\n",
        "      for j in range(len(puzzle[i])):\n",
        "        if t == puzzle[i][j]:\n",
        "          return i,j\n",
        "\n",
        "def fScore(puzzle,goal):\n",
        "  init = copy.deepcopy(puzzle)\n",
        "  count = 0\n",
        "  for i in range(len(puzzle)):\n",
        "    for j in range(len(puzzle[i])):\n",
        "      if puzzle[i][j] == 0:\n",
        "        continue\n",
        "      if puzzle[i][j] != init[i][j]:\n",
        "        count += 1  \n",
        "      k,l = find(goal,puzzle[i][j])\n",
        "      count += abs(k-i) + abs(l-j)\n",
        "  return count \n",
        "\n",
        "def genOp(puzzle):\n",
        "  ops = []\n",
        "  i,j = find(puzzle,0)\n",
        "  for p in [(-1,0),(+1,0),(0,-1),(0,+1)]:\n",
        "    if not ((i+p[0] > 2) or (i+p[0] < 0) or (j+p[1] > 2) or (j+p[1] < 0)):\n",
        "      ops.append([i+p[0],j+p[1]])\n",
        "  return ops\n",
        "\n",
        "def swap0(puzzles,pos):\n",
        "  puzzle = copy.deepcopy(puzzles)\n",
        "  i,j = find(puzzle,0)\n",
        "  puzzle[i][j] = puzzle[pos[0]][pos[1]]\n",
        "  puzzle[pos[0]][pos[1]] = 0\n",
        "  return puzzle\n",
        "\n",
        "def shuffle(puzzle, times):\n",
        "\n",
        "  for i in range(times):\n",
        "    o = genOp(puzzle)\n",
        "    k = random.randint(0,len(o)-1)\n",
        "    puzzle = swap0(puzzle,o[k])\n",
        "  return puzzle\n",
        "  \n",
        "def solve(puzzles, goal):\n",
        "  lastList = []\n",
        "  puzzle = copy.deepcopy(puzzles)\n",
        "  last = find(puzzle,0)\n",
        "  while not win(puzzle,goal):\n",
        "    ops = genOp(puzzle)\n",
        "    ops = [ops[i] for i in range(len(ops)) if list(ops[i]) != list(last)]\n",
        "    less = swap0(puzzle, ops[0])\n",
        "    for i,v in enumerate(ops):\n",
        "      if fScore(swap0(puzzle, v),goal) < fScore(less,goal):\n",
        "        less = swap0(puzzle, v)\n",
        "    last = find(puzzle,0)\n",
        "    puzzle = less\n",
        "    lastList.append(puzzle)\n",
        "  return lastList"
      ],
      "execution_count": null,
      "outputs": []
    },
    {
      "cell_type": "code",
      "metadata": {
        "id": "UjdRuQneK0xF",
        "colab": {
          "base_uri": "https://localhost:8080/",
          "height": 856
        },
        "outputId": "f0fee893-c4fa-4d97-81e0-f1bdf72dff53"
      },
      "source": [
        "goal = [[1,2,3],\n",
        "        [8,0,4],\n",
        "        [7,6,5]]\n",
        "\n",
        "pb =  shuffle(goal,20)\n",
        "print(\"Target-----\")\n",
        "for i in goal:\n",
        "  print(i)\n",
        "print(\"-----------\")\n",
        "print(\"initial----\")\n",
        "for i in pb:\n",
        "  print(i)\n",
        "print(\"-----------\\n\\n\")\n",
        "lastList = solve(pb, goal)\n",
        "\n",
        "for i in lastList[0]:\n",
        "  print(i)\n",
        "for i in lastList[1:]:\n",
        "  print(\"    |\")\n",
        "  print(\"    V\")\n",
        "  for j in i:\n",
        "    print(j)\n"
      ],
      "execution_count": null,
      "outputs": [
        {
          "output_type": "stream",
          "text": [
            "Target-----\n",
            "[1, 2, 3]\n",
            "[8, 0, 4]\n",
            "[7, 6, 5]\n",
            "-----------\n",
            "initial----\n",
            "[8, 1, 4]\n",
            "[3, 0, 2]\n",
            "[7, 6, 5]\n",
            "-----------\n",
            "\n",
            "\n",
            "[8, 1, 4]\n",
            "[0, 3, 2]\n",
            "[7, 6, 5]\n",
            "    |\n",
            "    V\n",
            "[0, 1, 4]\n",
            "[8, 3, 2]\n",
            "[7, 6, 5]\n",
            "    |\n",
            "    V\n",
            "[1, 0, 4]\n",
            "[8, 3, 2]\n",
            "[7, 6, 5]\n",
            "    |\n",
            "    V\n",
            "[1, 3, 4]\n",
            "[8, 0, 2]\n",
            "[7, 6, 5]\n",
            "    |\n",
            "    V\n",
            "[1, 3, 4]\n",
            "[8, 2, 0]\n",
            "[7, 6, 5]\n",
            "    |\n",
            "    V\n",
            "[1, 3, 0]\n",
            "[8, 2, 4]\n",
            "[7, 6, 5]\n",
            "    |\n",
            "    V\n",
            "[1, 0, 3]\n",
            "[8, 2, 4]\n",
            "[7, 6, 5]\n",
            "    |\n",
            "    V\n",
            "[1, 2, 3]\n",
            "[8, 0, 4]\n",
            "[7, 6, 5]\n"
          ],
          "name": "stdout"
        }
      ]
    },
    {
      "cell_type": "code",
      "metadata": {
        "id": "2Aiaa18iwfro"
      },
      "source": [
        ""
      ],
      "execution_count": null,
      "outputs": []
    }
  ]
}