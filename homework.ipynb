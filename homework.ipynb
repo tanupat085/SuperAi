{
  "nbformat": 4,
  "nbformat_minor": 0,
  "metadata": {
    "colab": {
      "name": "homework.ipynb",
      "provenance": [],
      "collapsed_sections": [],
      "authorship_tag": "ABX9TyPSCYUt6M0+GXlqdx9P5HvQ",
      "include_colab_link": true
    },
    "kernelspec": {
      "name": "python3",
      "display_name": "Python 3"
    }
  },
  "cells": [
    {
      "cell_type": "markdown",
      "metadata": {
        "id": "view-in-github",
        "colab_type": "text"
      },
      "source": [
        "<a href=\"https://colab.research.google.com/github/tanupat085/SuperAi/blob/main/homework.ipynb\" target=\"_parent\"><img src=\"https://colab.research.google.com/assets/colab-badge.svg\" alt=\"Open In Colab\"/></a>"
      ]
    },
    {
      "cell_type": "code",
      "metadata": {
        "id": "qysn6xz2_mqi"
      },
      "source": [
        "nameList = ['Mike' , 'Winn' , 'Eak' , 'Non']"
      ],
      "execution_count": null,
      "outputs": []
    },
    {
      "cell_type": "code",
      "metadata": {
        "id": "ASNlAP8z7IVx",
        "colab": {
          "base_uri": "https://localhost:8080/",
          "height": 34
        },
        "outputId": "ad52fde7-b126-4e5b-9bdc-8dfdd1fff04d"
      },
      "source": [
        "\n",
        "\n",
        "def coubtnamewithalphabet(alphabet):\n",
        "  coubtnamewithalphabet = 0\n",
        "  for name in nameList:\n",
        "    if alphabet in name :\n",
        "      coubtnamewithalphabet +=1\n",
        "  return coubtnamewithalphabet\n",
        "coubtnamewithalphabet('i')"
      ],
      "execution_count": null,
      "outputs": [
        {
          "output_type": "execute_result",
          "data": {
            "text/plain": [
              "2"
            ]
          },
          "metadata": {
            "tags": []
          },
          "execution_count": 4
        }
      ]
    }
  ]
}