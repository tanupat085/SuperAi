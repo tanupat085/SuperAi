{
  "nbformat": 4,
  "nbformat_minor": 0,
  "metadata": {
    "colab": {
      "name": "22pp21s0047 / ตนุภัทร / ข้อ 0 / 18 ก.ย. 63  .ipynb",
      "provenance": [],
      "collapsed_sections": [],
      "authorship_tag": "ABX9TyOw7EY+ZFR7DqgvCMOwkGf0",
      "include_colab_link": true
    },
    "kernelspec": {
      "name": "python3",
      "display_name": "Python 3"
    }
  },
  "cells": [
    {
      "cell_type": "markdown",
      "metadata": {
        "id": "view-in-github",
        "colab_type": "text"
      },
      "source": [
        "<a href=\"https://colab.research.google.com/github/tanupat085/SuperAi/blob/main/22pp21s0047_%E0%B8%95%E0%B8%99%E0%B8%B8%E0%B8%A0%E0%B8%B1%E0%B8%97%E0%B8%A3_%E0%B8%82%E0%B9%89%E0%B8%AD_0_18_%E0%B8%81_%E0%B8%A2_63_.ipynb\" target=\"_parent\"><img src=\"https://colab.research.google.com/assets/colab-badge.svg\" alt=\"Open In Colab\"/></a>"
      ]
    },
    {
      "cell_type": "code",
      "metadata": {
        "id": "DKnLmQj43fvV"
      },
      "source": [
        "num = [12,123,1234,12345,17,999999999,12,1] \n",
        "nummax = num[0] \n",
        "position = 0 \n",
        "for m in num: \n",
        "    if(m>nummax): \n",
        "        nummax = m\n",
        "        imax = position \n",
        "    position += 1\n",
        "print('ตำแหน่งที่',imax,'เลข',nummax)"
      ],
      "execution_count": null,
      "outputs": []
    }
  ]
}