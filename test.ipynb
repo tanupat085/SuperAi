{
  "nbformat": 4,
  "nbformat_minor": 0,
  "metadata": {
    "colab": {
      "name": "test.ipynb",
      "provenance": [],
      "collapsed_sections": [],
      "authorship_tag": "ABX9TyMovyl0oyprYGzNNAbAEl5d",
      "include_colab_link": true
    },
    "kernelspec": {
      "name": "python3",
      "display_name": "Python 3"
    }
  },
  "cells": [
    {
      "cell_type": "markdown",
      "metadata": {
        "id": "view-in-github",
        "colab_type": "text"
      },
      "source": [
        "<a href=\"https://colab.research.google.com/github/tanupat085/SuperAi/blob/main/test.ipynb\" target=\"_parent\"><img src=\"https://colab.research.google.com/assets/colab-badge.svg\" alt=\"Open In Colab\"/></a>"
      ]
    },
    {
      "cell_type": "markdown",
      "metadata": {
        "id": "5SWT7R4KBcax"
      },
      "source": [
        "![img](https://upload.wikimedia.org/wikipedia/commons/c/c3/Python-logo-notext.svg)\n",
        " "
      ]
    },
    {
      "cell_type": "markdown",
      "metadata": {
        "id": "QWpwtmkBCHU6"
      },
      "source": [
        "tanupat satitvattana\n",
        "\n",
        "Facebook : [tan aod](https://www.facebook.com/tanupat.satitvattana/)"
      ]
    },
    {
      "cell_type": "markdown",
      "metadata": {
        "id": "bKipTaDuCLHT"
      },
      "source": [
        "\n",
        "## python programming"
      ]
    },
    {
      "cell_type": "markdown",
      "metadata": {
        "id": "7dP5DeqANa5d"
      },
      "source": [
        "### python variable\n"
      ]
    },
    {
      "cell_type": "markdown",
      "metadata": {
        "id": "woIJiS-3Ne2q"
      },
      "source": [
        "ex5 python line structure"
      ]
    },
    {
      "cell_type": "code",
      "metadata": {
        "id": "1dW49028Njb4",
        "colab": {
          "base_uri": "https://localhost:8080/"
        },
        "outputId": "77bde867-197d-4279-a701-4abae5ce756c"
      },
      "source": [
        "name = \"python programming\" #string\n",
        "qty = 9 #unteger\n",
        "value = 9000.89 #floating point\n",
        "print(name)\n",
        "print(qty)\n",
        "print(value)"
      ],
      "execution_count": 1,
      "outputs": [
        {
          "output_type": "stream",
          "text": [
            "python programming\n",
            "9\n",
            "9000.89\n"
          ],
          "name": "stdout"
        }
      ]
    },
    {
      "cell_type": "markdown",
      "metadata": {
        "id": "fKAprL3ZOWm0"
      },
      "source": [
        "ex6 multiple assignment"
      ]
    },
    {
      "cell_type": "code",
      "metadata": {
        "id": "A8zsj8y3Obfc",
        "colab": {
          "base_uri": "https://localhost:8080/"
        },
        "outputId": "2e65560d-779e-4059-94cb-ac14e987ab96"
      },
      "source": [
        "x = y = z = 9\n",
        "print(x)\n",
        "print(y)\n",
        "print(z)\n",
        "print(x,y,z)"
      ],
      "execution_count": 2,
      "outputs": [
        {
          "output_type": "stream",
          "text": [
            "9\n",
            "9\n",
            "9\n",
            "9 9 9\n"
          ],
          "name": "stdout"
        }
      ]
    },
    {
      "cell_type": "markdown",
      "metadata": {
        "id": "OxYRBal6PEsq"
      },
      "source": [
        "ex next global variable python"
      ]
    },
    {
      "cell_type": "code",
      "metadata": {
        "id": "uzFrUF9PPIcG",
        "colab": {
          "base_uri": "https://localhost:8080/"
        },
        "outputId": "6a1e6ddd-5150-4276-fc0e-b22fea517597"
      },
      "source": [
        "var1 = \"js\"\n",
        "def func():\n",
        "  var1 = \"python\"\n",
        "  print(\"js is better than > \", var1)\n",
        "\n",
        "def func2():\n",
        "  print(\"hi\")\n",
        "\n",
        "func()"
      ],
      "execution_count": 3,
      "outputs": [
        {
          "output_type": "stream",
          "text": [
            "js is better than >  python\n"
          ],
          "name": "stdout"
        }
      ]
    },
    {
      "cell_type": "markdown",
      "metadata": {
        "id": "OUx-rQUzPugn"
      },
      "source": [
        "ex next gloval var"
      ]
    },
    {
      "cell_type": "code",
      "metadata": {
        "id": "IbSRpPE_QfIL",
        "colab": {
          "base_uri": "https://localhost:8080/"
        },
        "outputId": "7c46299a-b3f5-4a33-be39-f5ad8ea86781"
      },
      "source": [
        "def func():\n",
        "  global var1 \n",
        "  var1 = \"java\"\n",
        "  print(var1)\n",
        "\n",
        "def func2():\n",
        "  print(var1)\n",
        "\n",
        "func()\n",
        "func2()"
      ],
      "execution_count": 4,
      "outputs": [
        {
          "output_type": "stream",
          "text": [
            "java\n",
            "java\n"
          ],
          "name": "stdout"
        }
      ]
    },
    {
      "cell_type": "markdown",
      "metadata": {
        "id": "V5EuKiKDDVnc"
      },
      "source": [
        "### python syntax\n",
        "ex1 1 python line structure"
      ]
    },
    {
      "cell_type": "code",
      "metadata": {
        "id": "m4uNq2DOEIBG",
        "colab": {
          "base_uri": "https://localhost:8080/"
        },
        "outputId": "e93c2e6c-26d6-4c81-a62f-cdcad93646c6"
      },
      "source": [
        "x = 0\n",
        "if x >=  1:\n",
        "  print(x)\n",
        "else :\n",
        "  print(\"x is not defined\")"
      ],
      "execution_count": 5,
      "outputs": [
        {
          "output_type": "stream",
          "text": [
            "x is not defined\n"
          ],
          "name": "stdout"
        }
      ]
    },
    {
      "cell_type": "markdown",
      "metadata": {
        "id": "wBZ0NBQhGnnd"
      },
      "source": [
        "ex2 comments in python"
      ]
    },
    {
      "cell_type": "code",
      "metadata": {
        "id": "LTCT3gHGGuwU",
        "colab": {
          "base_uri": "https://localhost:8080/"
        },
        "outputId": "23d3c00e-1a93-4d7a-e760-4779b721a562"
      },
      "source": [
        "#x = 0\n",
        "if x >=  1:\n",
        "  print(x)\n",
        "else :\n",
        "  '''print(\"x is not defined\")\n",
        "  print(\"hi hi\")\n",
        "  print(\"test\")'''\n",
        "  # print(\"x is not defined\")\n",
        "  # print(\"hi hi\")\n",
        "  # print(\"test\")\n",
        "  print(\"emp\")"
      ],
      "execution_count": 6,
      "outputs": [
        {
          "output_type": "stream",
          "text": [
            "emp\n"
          ],
          "name": "stdout"
        }
      ]
    },
    {
      "cell_type": "markdown",
      "metadata": {
        "id": "f5vgGQ0aIzy_"
      },
      "source": [
        "ex3 joining two lines\n"
      ]
    },
    {
      "cell_type": "code",
      "metadata": {
        "id": "WfmdBM5JI_aC",
        "colab": {
          "base_uri": "https://localhost:8080/"
        },
        "outputId": "607c3d79-2517-4f12-fa24-84c1b8b7224d"
      },
      "source": [
        "a = 0\n",
        "b = 1\n",
        "c = 2\n",
        "d = 3\n",
        "f = 5\n",
        "if a == 0 and b == 1 \\\n",
        "  and c == 2 and d ==3 :\n",
        "    print(\"joining\")"
      ],
      "execution_count": 7,
      "outputs": [
        {
          "output_type": "stream",
          "text": [
            "joining\n"
          ],
          "name": "stdout"
        }
      ]
    },
    {
      "cell_type": "markdown",
      "metadata": {
        "id": "y0BQxYYTK5Ls"
      },
      "source": [
        "ex4 indentation"
      ]
    },
    {
      "cell_type": "code",
      "metadata": {
        "id": "kYfGfH9dK7Lb",
        "colab": {
          "base_uri": "https://localhost:8080/"
        },
        "outputId": "82b756e1-8328-4d36-e616-4c461a76b6f4"
      },
      "source": [
        "x = 2\n",
        "if x == 1 :\n",
        "  print(\"hi\")\n",
        "else:\n",
        "  print(\"smile\")\n",
        "  print(\"a single space\")"
      ],
      "execution_count": 8,
      "outputs": [
        {
          "output_type": "stream",
          "text": [
            "smile\n",
            "a single space\n"
          ],
          "name": "stdout"
        }
      ]
    },
    {
      "cell_type": "markdown",
      "metadata": {
        "id": "cY_xI9PRNRpO"
      },
      "source": [
        "ex5 "
      ]
    },
    {
      "cell_type": "markdown",
      "metadata": {
        "id": "AArbt12VNZp2"
      },
      "source": [
        ""
      ]
    }
  ]
}